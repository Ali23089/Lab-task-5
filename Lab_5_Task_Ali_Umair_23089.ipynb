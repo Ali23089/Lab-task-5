{
  "nbformat": 4,
  "nbformat_minor": 0,
  "metadata": {
    "colab": {
      "provenance": []
    },
    "kernelspec": {
      "name": "python3",
      "display_name": "Python 3"
    },
    "language_info": {
      "name": "python"
    }
  },
  "cells": [
    {
      "cell_type": "code",
      "execution_count": 29,
      "metadata": {
        "id": "Z3X4e4GJ4A1_"
      },
      "outputs": [],
      "source": [
        "import numpy as np\n",
        "import pandas as pd\n",
        "from sklearn.model_selection import train_test_split\n",
        "from sklearn.feature_extraction.text import TfidfVectorizer\n",
        "from sklearn.naive_bayes import MultinomialNB\n",
        "from sklearn.linear_model import LogisticRegression\n",
        "from sklearn.tree import DecisionTreeClassifier\n",
        "from sklearn.metrics import classification_report, accuracy_score\n",
        "import matplotlib.pyplot as plt\n",
        "\n",
        "\n"
      ]
    },
    {
      "cell_type": "code",
      "source": [
        "df = pd.read_csv ('/content/WELFake_Dataset.csv')\n"
      ],
      "metadata": {
        "id": "ITF83GdQ5LG2"
      },
      "execution_count": 15,
      "outputs": []
    },
    {
      "cell_type": "code",
      "source": [
        "df.dropna(subset=['text'], inplace=True)"
      ],
      "metadata": {
        "id": "5XZpIeFoA-Ff"
      },
      "execution_count": 16,
      "outputs": []
    },
    {
      "cell_type": "code",
      "source": [
        "X = df['text']  \n",
        "y = df['label']"
      ],
      "metadata": {
        "id": "JIgdPCq4BDjW"
      },
      "execution_count": 17,
      "outputs": []
    },
    {
      "cell_type": "code",
      "source": [
        "X_train, X_test, y_train, y_test = train_test_split(X, y, test_size=0.2, random_state=42)\n"
      ],
      "metadata": {
        "id": "kgNH4uUaBIN3"
      },
      "execution_count": 18,
      "outputs": []
    },
    {
      "cell_type": "code",
      "source": [
        "tfidf_vectorizer = TfidfVectorizer(stop_words='english', max_df=0.7)\n"
      ],
      "metadata": {
        "id": "ddI-f0DpBNrO"
      },
      "execution_count": 19,
      "outputs": []
    },
    {
      "cell_type": "code",
      "source": [
        "tfidf_train = tfidf_vectorizer.fit_transform(X_train.astype('U'))\n",
        "tfidf_test = tfidf_vectorizer.transform(X_test.astype('U'))\n"
      ],
      "metadata": {
        "id": "CEPpBsuSBUCm"
      },
      "execution_count": 20,
      "outputs": []
    },
    {
      "cell_type": "code",
      "source": [
        "nb_model = MultinomialNB()\n",
        "nb_model.fit(tfidf_train, y_train)\n",
        "nb_pred = nb_model.predict(tfidf_test)\n",
        "nb_report = classification_report(y_test, nb_pred, output_dict=True)"
      ],
      "metadata": {
        "id": "S8dV5NDmBj0i"
      },
      "execution_count": 21,
      "outputs": []
    },
    {
      "cell_type": "code",
      "source": [
        "lr_model = LogisticRegression(max_iter=5000)\n",
        "lr_model.fit(tfidf_train, y_train)\n",
        "lr_pred = lr_model.predict(tfidf_test)\n",
        "lr_report = classification_report(y_test, lr_pred, output_dict=True)\n"
      ],
      "metadata": {
        "id": "rHB5zBEhBo6V"
      },
      "execution_count": 22,
      "outputs": []
    },
    {
      "cell_type": "code",
      "source": [
        "dt_model = DecisionTreeClassifier()\n",
        "dt_model.fit(tfidf_train, y_train)\n",
        "dt_pred = dt_model.predict(tfidf_test)\n",
        "dt_report = classification_report(y_test, dt_pred, output_dict=True)"
      ],
      "metadata": {
        "id": "6a-Jp0zECC0O"
      },
      "execution_count": 23,
      "outputs": []
    },
    {
      "cell_type": "code",
      "source": [
        "precision = [nb_report['weighted avg']['precision'], lr_report['weighted avg']['precision'], dt_report['weighted avg']['precision']]\n",
        "recall = [nb_report['weighted avg']['recall'], lr_report['weighted avg']['recall'], dt_report['weighted avg']['recall']]\n",
        "f1_score = [nb_report['weighted avg']['f1-score'], lr_report['weighted avg']['f1-score'], dt_report['weighted avg']['f1-score']]\n",
        "accuracy = [accuracy_score(y_test, nb_pred), accuracy_score(y_test, lr_pred), accuracy_score(y_test, dt_pred)]\n",
        "\n"
      ],
      "metadata": {
        "id": "5aO4v7S1C0wd"
      },
      "execution_count": 25,
      "outputs": []
    },
    {
      "cell_type": "code",
      "source": [
        "labels = ['Multinomial NB', 'Logistic Regression', 'Decision Tree']\n"
      ],
      "metadata": {
        "id": "UALGsfXXC9KB"
      },
      "execution_count": 26,
      "outputs": []
    },
    {
      "cell_type": "code",
      "source": [
        "bar_positions = np.arange(len(labels))\n",
        "bar_width = 0.2"
      ],
      "metadata": {
        "id": "hEy0mAJMDBvq"
      },
      "execution_count": 27,
      "outputs": []
    },
    {
      "cell_type": "code",
      "source": [
        "print(\"Multinomial Naive Bayes Report:\")\n",
        "print(nb_report)\n",
        "print(\"Logistic Regression Report:\")\n",
        "print(lr_report)\n",
        "print(\"Decision Tree Report:\")\n",
        "print(dt_report)"
      ],
      "metadata": {
        "colab": {
          "base_uri": "https://localhost:8080/"
        },
        "id": "C_GvlbP-DWc-",
        "outputId": "247179c8-0c6b-4964-eb4a-12df5e158997"
      },
      "execution_count": 32,
      "outputs": [
        {
          "output_type": "stream",
          "name": "stdout",
          "text": [
            "Multinomial Naive Bayes Report:\n",
            "{'0.0': {'precision': 0.8520555119141137, 'recall': 0.8658861096327833, 'f1-score': 0.8589151379173815, 'support': 3758}, '1.0': {'precision': 0.8684759916492694, 'recall': 0.8548677112766504, 'f1-score': 0.8616181229773463, 'support': 3893}, 'accuracy': 0.8602797019997386, 'macro avg': {'precision': 0.8602657517816915, 'recall': 0.8603769104547169, 'f1-score': 0.8602666304473638, 'support': 7651}, 'weighted avg': {'precision': 0.8604106194306423, 'recall': 0.8602797019997386, 'f1-score': 0.8602904771983177, 'support': 7651}}\n",
            "Logistic Regression Report:\n",
            "{'0.0': {'precision': 0.9374145941514075, 'recall': 0.9127195316657797, 'f1-score': 0.9249022515841986, 'support': 3758}, '1.0': {'precision': 0.9178356713426854, 'recall': 0.9411764705882353, 'f1-score': 0.9293595434369055, 'support': 3893}, 'accuracy': 0.927199058946543, 'macro avg': {'precision': 0.9276251327470464, 'recall': 0.9269480011270075, 'f1-score': 0.9271308975105521, 'support': 7651}, 'weighted avg': {'precision': 0.9274524001252207, 'recall': 0.927199058946543, 'f1-score': 0.9271702214159314, 'support': 7651}}\n",
            "Decision Tree Report:\n",
            "{'0.0': {'precision': 0.9082767978290366, 'recall': 0.8906333155934008, 'f1-score': 0.8993685341932015, 'support': 3758}, '1.0': {'precision': 0.8963691376701967, 'recall': 0.9131774980734652, 'f1-score': 0.9046952538490902, 'support': 3893}, 'accuracy': 0.9021043000914913, 'macro avg': {'precision': 0.9023229677496166, 'recall': 0.9019054068334329, 'f1-score': 0.9020318940211458, 'support': 7651}, 'weighted avg': {'precision': 0.9022179138925102, 'recall': 0.9021043000914913, 'f1-score': 0.9020788883456489, 'support': 7651}}\n"
          ]
        }
      ]
    },
    {
      "cell_type": "code",
      "source": [
        "plt.figure(figsize=(10, 6))\n",
        "plt.bar(bar_positions - bar_width, precision, width=bar_width, label='Precision', alpha=0.7)\n",
        "plt.bar(bar_positions, recall, width=bar_width, label='Recall', alpha=0.7)\n",
        "plt.bar(bar_positions + bar_width, f1_score, width=bar_width, label='F1-Score', alpha=0.7)\n",
        "plt.bar(bar_positions + (2 * bar_width), accuracy, width=bar_width, label='Accuracy', alpha=0.7)\n",
        "plt.xlabel('Technique')\n",
        "plt.ylabel('Score')\n",
        "plt.title('Comparison of Metrics ')"
      ],
      "metadata": {
        "colab": {
          "base_uri": "https://localhost:8080/",
          "height": 581
        },
        "id": "Np8kPUMnEdI4",
        "outputId": "15c9e339-b8d6-43e3-9459-b403e766c8fe"
      },
      "execution_count": 33,
      "outputs": [
        {
          "output_type": "execute_result",
          "data": {
            "text/plain": [
              "Text(0.5, 1.0, 'Comparison of Metrics ')"
            ]
          },
          "metadata": {},
          "execution_count": 33
        },
        {
          "output_type": "display_data",
          "data": {
            "text/plain": [
              "<Figure size 1000x600 with 1 Axes>"
            ],
            "image/png": "[encoded data removed]"
          },
          "metadata": {}
        }
      ]
    }
  ]
}